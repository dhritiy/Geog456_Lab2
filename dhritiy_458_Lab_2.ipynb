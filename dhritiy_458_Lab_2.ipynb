{
  "nbformat": 4,
  "nbformat_minor": 0,
  "metadata": {
    "colab": {
      "name": "458 Lab 2",
      "provenance": [],
      "collapsed_sections": []
    },
    "kernelspec": {
      "display_name": "Python 3",
      "name": "python3"
    }
  },
  "cells": [
    {
      "cell_type": "code",
      "metadata": {
        "colab": {
          "base_uri": "https://localhost:8080/"
        },
        "id": "8uOQ8jeZKA9T",
        "outputId": "e381bf04-3a4f-4b2a-9e7b-30038f431f3e"
      },
      "source": [
        "from google.colab import drive \r\n",
        "drive.mount('/content/drive')"
      ],
      "execution_count": null,
      "outputs": [
        {
          "output_type": "stream",
          "text": [
            "Mounted at /content/drive\n"
          ],
          "name": "stdout"
        }
      ]
    },
    {
      "cell_type": "code",
      "metadata": {
        "colab": {
          "base_uri": "https://localhost:8080/"
        },
        "id": "v-ZCd_AVKLY5",
        "outputId": "af58f013-8775-4850-acdd-234962328d14"
      },
      "source": [
        "# created on Dec 24, 2020\r\n",
        "# @author:          Bo Zhao\r\n",
        "# @email:           zhaobo@uw.edu\r\n",
        "# @website:         https://hgis.uw.edu\r\n",
        "# @organization:    Department of Geography, University of Washington, Seattle\r\n",
        "# @description:     Search geo-tagged tweets within the U.S. This script is modified from https://github.com/shawn-terryah/Twitter_Geolocation\r\n",
        "\r\n",
        "!python -m pip install tweepy\r\n",
        "import tweepy, json, time"
      ],
      "execution_count": null,
      "outputs": [
        {
          "output_type": "stream",
          "text": [
            "Requirement already satisfied: tweepy in /usr/local/lib/python3.6/dist-packages (3.6.0)\n",
            "Requirement already satisfied: six>=1.10.0 in /usr/local/lib/python3.6/dist-packages (from tweepy) (1.15.0)\n",
            "Requirement already satisfied: requests-oauthlib>=0.7.0 in /usr/local/lib/python3.6/dist-packages (from tweepy) (1.3.0)\n",
            "Requirement already satisfied: PySocks>=1.5.7 in /usr/local/lib/python3.6/dist-packages (from tweepy) (1.7.1)\n",
            "Requirement already satisfied: requests>=2.11.1 in /usr/local/lib/python3.6/dist-packages (from tweepy) (2.23.0)\n",
            "Requirement already satisfied: oauthlib>=3.0.0 in /usr/local/lib/python3.6/dist-packages (from requests-oauthlib>=0.7.0->tweepy) (3.1.0)\n",
            "Requirement already satisfied: idna<3,>=2.5 in /usr/local/lib/python3.6/dist-packages (from requests>=2.11.1->tweepy) (2.10)\n",
            "Requirement already satisfied: urllib3!=1.25.0,!=1.25.1,<1.26,>=1.21.1 in /usr/local/lib/python3.6/dist-packages (from requests>=2.11.1->tweepy) (1.24.3)\n",
            "Requirement already satisfied: chardet<4,>=3.0.2 in /usr/local/lib/python3.6/dist-packages (from requests>=2.11.1->tweepy) (3.0.4)\n",
            "Requirement already satisfied: certifi>=2017.4.17 in /usr/local/lib/python3.6/dist-packages (from requests>=2.11.1->tweepy) (2020.12.5)\n"
          ],
          "name": "stdout"
        }
      ]
    },
    {
      "cell_type": "code",
      "metadata": {
        "id": "dVRl0k4jKLfo"
      },
      "source": [
        "class StreamListener(tweepy.StreamListener):\r\n",
        "    \"\"\"tweepy.StreamListener is a class provided by tweepy used to access\r\n",
        "    the Twitter Streaming API to collect tweets in real-time.\r\n",
        "    \"\"\"\r\n",
        "\r\n",
        "    def __init__(self, time_limit=60, file=\"\"):\r\n",
        "        \"\"\"class initialization\"\"\"\r\n",
        "        self.start_time = time.time()\r\n",
        "        self.limit = time_limit\r\n",
        "        self.f = open(file, 'a', encoding=\"utf-8\")\r\n",
        "        super(StreamListener, self).__init__()\r\n",
        "\r\n",
        "    def on_data(self, data):\r\n",
        "        \"\"\"This is called when data are streamed in.\"\"\"\r\n",
        "        if (time.time() - self.start_time) < self.limit:\r\n",
        "            datajson = json.loads(data)\r\n",
        "            print(datajson, \"\\n\")\r\n",
        "            if 'id' not in datajson.keys():\r\n",
        "                time.sleep(10)\r\n",
        "            else:\r\n",
        "                # {'limit': {'track': 13, 'timestamp_ms': '1585851016736'}}\r\n",
        "\r\n",
        "                id = datajson['id']\r\n",
        "                username = datajson['user']['screen_name']\r\n",
        "                created_at = datajson['created_at']\r\n",
        "                text = datajson['text'].strip().replace(\"\\n\", \"\")\r\n",
        "\r\n",
        "                # process the geo-tags\r\n",
        "                if datajson['coordinates'] == None:\r\n",
        "                    try:\r\n",
        "                        bbox = datajson['place']['bounding_box']['coordinates'][0]\r\n",
        "                        lng = (bbox[0][0] + bbox[2][0]) / 2.0\r\n",
        "                        lat = (bbox[0][1] + bbox[1][1]) / 2.0\r\n",
        "                    except:\r\n",
        "                        lat = 0\r\n",
        "                        lng = 0\r\n",
        "                else:\r\n",
        "                    lng = datajson['coordinates']['coordinates'][0]\r\n",
        "                    lat = datajson['coordinates']['coordinates'][1]\r\n",
        "\r\n",
        "                if lat != 0:\r\n",
        "                    record = '%s, %s, %f, %f, %s \\n' % (username, created_at, lng, lat, text)\r\n",
        "                    print(record)\r\n",
        "                    self.f.write(record)\r\n",
        "                else:\r\n",
        "                    pass\r\n",
        "        else:\r\n",
        "            self.f.close()\r\n",
        "            print(\"finished\")\r\n",
        "            return False"
      ],
      "execution_count": null,
      "outputs": []
    },
    {
      "cell_type": "code",
      "metadata": {
        "id": "91wx4jNcKLmX"
      },
      "source": [
        "if __name__ == \"__main__\":\r\n",
        "    # These are provided to you through the Twitter API after you create a account\r\n",
        "    # register a Twitter App to get the keys and access tokens.\r\n",
        "    output_file = \"/content/drive/MyDrive/tweets6.csv\"\r\n",
        "\r\n",
        "    # Apply for your own Twitter API keys at https://developer.twitter.com/en/apply-for-access\r\n",
        "    consumer_key = \"consumer_key\"\r\n",
        "    consumer_secret = \"consumer_secret\"\r\n",
        "    access_token = \"access_token\"\r\n",
        "    access_token_secret = \"access_token_secret\"\r\n",
        "\r\n",
        "    myauth = tweepy.OAuthHandler(consumer_key, consumer_secret)\r\n",
        "    myauth.set_access_token(access_token, access_token_secret)\r\n",
        "\r\n",
        "    # LOCATIONS are the longitude, latitude coordinate corners for a box that restricts the\r\n",
        "    # geographic area from which you will stream tweets. The first two define the southwest\r\n",
        "    # corner of the box and the second two define the northeast corner of the box.\r\n",
        "    LOCATIONS = [65.45, 6.34, 87.99, 26.56] # Coordinates for India\r\n",
        "\r\n",
        "    stream_listener = StreamListener(time_limit= 1200, file=output_file)\r\n",
        "    stream = tweepy.Stream(auth=myauth, listener=stream_listener)\r\n",
        "    stream.filter(locations=LOCATIONS)\r\n",
        " "
      ],
      "execution_count": null,
      "outputs": []
    },
    {
      "cell_type": "code",
      "metadata": {
        "id": "aSlAcQw0KLuk"
      },
      "source": [
        ""
      ],
      "execution_count": null,
      "outputs": []
    }
  ]
}